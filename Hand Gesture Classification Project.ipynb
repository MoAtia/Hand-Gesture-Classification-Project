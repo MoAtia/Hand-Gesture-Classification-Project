{
 "cells": [
  {
   "cell_type": "code",
   "execution_count": 37,
   "metadata": {},
   "outputs": [],
   "source": [
    "# 1. Imports\n",
    "import pandas as pd\n",
    "import numpy as np\n",
    "import random\n",
    "import matplotlib.pyplot as plt\n",
    "from sklearn.model_selection import train_test_split\n",
    "from sklearn.ensemble import RandomForestClassifier\n",
    "from sklearn.svm import SVC\n",
    "from sklearn.neighbors import KNeighborsClassifier\n",
    "from sklearn.metrics import classification_report, accuracy_score\n",
    "from sklearn.preprocessing import StandardScaler\n",
    "\n",
    "import mediapipe as mp\n",
    "import cv2\n",
    "from sklearn.model_selection import GridSearchCV\n"
   ]
  },
  {
   "cell_type": "markdown",
   "metadata": {},
   "source": [
    "# 1.Make code reproducible"
   ]
  },
  {
   "cell_type": "code",
   "execution_count": 38,
   "metadata": {},
   "outputs": [],
   "source": [
    "def set_seeds(seed=42):\n",
    "    random.seed(seed)\n",
    "    np.random.seed(seed)"
   ]
  },
  {
   "cell_type": "code",
   "execution_count": 39,
   "metadata": {},
   "outputs": [],
   "source": [
    "set_seeds(42)"
   ]
  },
  {
   "cell_type": "markdown",
   "metadata": {},
   "source": [
    "# 2.Load the data"
   ]
  },
  {
   "cell_type": "code",
   "execution_count": null,
   "metadata": {},
   "outputs": [],
   "source": [
    "df = pd.read_csv(\"hand_landmarks_data.csv\")"
   ]
  },
  {
   "cell_type": "code",
   "execution_count": null,
   "metadata": {},
   "outputs": [
    {
     "name": "stdout",
     "output_type": "stream",
     "text": [
      "Data shape: (25675, 64)\n"
     ]
    },
    {
     "data": {
      "text/html": [
       "<div>\n",
       "<style scoped>\n",
       "    .dataframe tbody tr th:only-of-type {\n",
       "        vertical-align: middle;\n",
       "    }\n",
       "\n",
       "    .dataframe tbody tr th {\n",
       "        vertical-align: top;\n",
       "    }\n",
       "\n",
       "    .dataframe thead th {\n",
       "        text-align: right;\n",
       "    }\n",
       "</style>\n",
       "<table border=\"1\" class=\"dataframe\">\n",
       "  <thead>\n",
       "    <tr style=\"text-align: right;\">\n",
       "      <th></th>\n",
       "      <th>x1</th>\n",
       "      <th>y1</th>\n",
       "      <th>z1</th>\n",
       "      <th>x2</th>\n",
       "      <th>y2</th>\n",
       "      <th>z2</th>\n",
       "      <th>x3</th>\n",
       "      <th>y3</th>\n",
       "      <th>z3</th>\n",
       "      <th>x4</th>\n",
       "      <th>...</th>\n",
       "      <th>x19</th>\n",
       "      <th>y19</th>\n",
       "      <th>z19</th>\n",
       "      <th>x20</th>\n",
       "      <th>y20</th>\n",
       "      <th>z20</th>\n",
       "      <th>x21</th>\n",
       "      <th>y21</th>\n",
       "      <th>z21</th>\n",
       "      <th>label</th>\n",
       "    </tr>\n",
       "  </thead>\n",
       "  <tbody>\n",
       "    <tr>\n",
       "      <th>0</th>\n",
       "      <td>262.669968</td>\n",
       "      <td>257.304901</td>\n",
       "      <td>-3.649205e-07</td>\n",
       "      <td>257.417542</td>\n",
       "      <td>247.109055</td>\n",
       "      <td>0.004224</td>\n",
       "      <td>246.882957</td>\n",
       "      <td>241.716827</td>\n",
       "      <td>0.005798</td>\n",
       "      <td>236.384537</td>\n",
       "      <td>...</td>\n",
       "      <td>223.345093</td>\n",
       "      <td>255.490692</td>\n",
       "      <td>-0.020450</td>\n",
       "      <td>215.043365</td>\n",
       "      <td>258.114746</td>\n",
       "      <td>-0.024577</td>\n",
       "      <td>208.006393</td>\n",
       "      <td>259.608673</td>\n",
       "      <td>-0.026722</td>\n",
       "      <td>call</td>\n",
       "    </tr>\n",
       "    <tr>\n",
       "      <th>1</th>\n",
       "      <td>83.351778</td>\n",
       "      <td>346.059113</td>\n",
       "      <td>-2.345265e-07</td>\n",
       "      <td>81.925037</td>\n",
       "      <td>328.562347</td>\n",
       "      <td>-0.011102</td>\n",
       "      <td>90.080132</td>\n",
       "      <td>311.535248</td>\n",
       "      <td>-0.021096</td>\n",
       "      <td>95.641823</td>\n",
       "      <td>...</td>\n",
       "      <td>132.451618</td>\n",
       "      <td>341.794434</td>\n",
       "      <td>-0.038175</td>\n",
       "      <td>142.773582</td>\n",
       "      <td>342.829254</td>\n",
       "      <td>-0.037336</td>\n",
       "      <td>152.431698</td>\n",
       "      <td>343.015991</td>\n",
       "      <td>-0.036136</td>\n",
       "      <td>call</td>\n",
       "    </tr>\n",
       "    <tr>\n",
       "      <th>2</th>\n",
       "      <td>187.756977</td>\n",
       "      <td>260.235492</td>\n",
       "      <td>-2.417307e-07</td>\n",
       "      <td>195.460579</td>\n",
       "      <td>241.506035</td>\n",
       "      <td>-0.000184</td>\n",
       "      <td>207.259529</td>\n",
       "      <td>223.674339</td>\n",
       "      <td>-0.009687</td>\n",
       "      <td>215.413628</td>\n",
       "      <td>...</td>\n",
       "      <td>250.301010</td>\n",
       "      <td>268.602938</td>\n",
       "      <td>-0.044068</td>\n",
       "      <td>262.425133</td>\n",
       "      <td>271.276638</td>\n",
       "      <td>-0.040469</td>\n",
       "      <td>272.989952</td>\n",
       "      <td>272.272231</td>\n",
       "      <td>-0.038301</td>\n",
       "      <td>call</td>\n",
       "    </tr>\n",
       "    <tr>\n",
       "      <th>3</th>\n",
       "      <td>114.976696</td>\n",
       "      <td>331.594238</td>\n",
       "      <td>-1.233261e-07</td>\n",
       "      <td>114.503494</td>\n",
       "      <td>320.549957</td>\n",
       "      <td>-0.002824</td>\n",
       "      <td>116.636627</td>\n",
       "      <td>310.080994</td>\n",
       "      <td>-0.008911</td>\n",
       "      <td>117.685066</td>\n",
       "      <td>...</td>\n",
       "      <td>145.195450</td>\n",
       "      <td>329.357544</td>\n",
       "      <td>-0.027622</td>\n",
       "      <td>151.053200</td>\n",
       "      <td>329.712341</td>\n",
       "      <td>-0.027863</td>\n",
       "      <td>155.990364</td>\n",
       "      <td>329.548828</td>\n",
       "      <td>-0.027723</td>\n",
       "      <td>call</td>\n",
       "    </tr>\n",
       "    <tr>\n",
       "      <th>4</th>\n",
       "      <td>188.795288</td>\n",
       "      <td>141.727867</td>\n",
       "      <td>-1.622995e-07</td>\n",
       "      <td>188.520905</td>\n",
       "      <td>127.947464</td>\n",
       "      <td>-0.002884</td>\n",
       "      <td>191.982880</td>\n",
       "      <td>111.010563</td>\n",
       "      <td>-0.008115</td>\n",
       "      <td>192.552521</td>\n",
       "      <td>...</td>\n",
       "      <td>226.696396</td>\n",
       "      <td>132.263248</td>\n",
       "      <td>-0.025113</td>\n",
       "      <td>234.831741</td>\n",
       "      <td>130.684147</td>\n",
       "      <td>-0.024087</td>\n",
       "      <td>241.587769</td>\n",
       "      <td>128.477188</td>\n",
       "      <td>-0.023486</td>\n",
       "      <td>call</td>\n",
       "    </tr>\n",
       "  </tbody>\n",
       "</table>\n",
       "<p>5 rows × 64 columns</p>\n",
       "</div>"
      ],
      "text/plain": [
       "           x1          y1            z1          x2          y2        z2  \\\n",
       "0  262.669968  257.304901 -3.649205e-07  257.417542  247.109055  0.004224   \n",
       "1   83.351778  346.059113 -2.345265e-07   81.925037  328.562347 -0.011102   \n",
       "2  187.756977  260.235492 -2.417307e-07  195.460579  241.506035 -0.000184   \n",
       "3  114.976696  331.594238 -1.233261e-07  114.503494  320.549957 -0.002824   \n",
       "4  188.795288  141.727867 -1.622995e-07  188.520905  127.947464 -0.002884   \n",
       "\n",
       "           x3          y3        z3          x4  ...         x19         y19  \\\n",
       "0  246.882957  241.716827  0.005798  236.384537  ...  223.345093  255.490692   \n",
       "1   90.080132  311.535248 -0.021096   95.641823  ...  132.451618  341.794434   \n",
       "2  207.259529  223.674339 -0.009687  215.413628  ...  250.301010  268.602938   \n",
       "3  116.636627  310.080994 -0.008911  117.685066  ...  145.195450  329.357544   \n",
       "4  191.982880  111.010563 -0.008115  192.552521  ...  226.696396  132.263248   \n",
       "\n",
       "        z19         x20         y20       z20         x21         y21  \\\n",
       "0 -0.020450  215.043365  258.114746 -0.024577  208.006393  259.608673   \n",
       "1 -0.038175  142.773582  342.829254 -0.037336  152.431698  343.015991   \n",
       "2 -0.044068  262.425133  271.276638 -0.040469  272.989952  272.272231   \n",
       "3 -0.027622  151.053200  329.712341 -0.027863  155.990364  329.548828   \n",
       "4 -0.025113  234.831741  130.684147 -0.024087  241.587769  128.477188   \n",
       "\n",
       "        z21  label  \n",
       "0 -0.026722   call  \n",
       "1 -0.036136   call  \n",
       "2 -0.038301   call  \n",
       "3 -0.027723   call  \n",
       "4 -0.023486   call  \n",
       "\n",
       "[5 rows x 64 columns]"
      ]
     },
     "execution_count": 4,
     "metadata": {},
     "output_type": "execute_result"
    }
   ],
   "source": [
    "print(\"Data shape:\", df.shape)\n",
    "df.head()"
   ]
  },
  {
   "cell_type": "markdown",
   "metadata": {},
   "source": [
    "# 3.Plotting Sample"
   ]
  },
  {
   "cell_type": "code",
   "execution_count": 33,
   "metadata": {},
   "outputs": [],
   "source": [
    "def plot_sample(sample_vis):\n",
    "  for k in range(len(sample_vis)):\n",
    "    row = sample_vis.iloc[k]\n",
    "\n",
    "    # Extract x and y\n",
    "    x = [row[f'x{i}'] for i in range(1,22)]\n",
    "    y = [row[f'y{i}'] for i in range(1,22)]\n",
    "    print(len(x))\n",
    "    # Plot\n",
    "    plt.figure(figsize=(6, 6))\n",
    "    plt.scatter(x, y, c='blue')\n",
    "\n",
    "    # Optionally connect in order\n",
    "    # for i in range(20):\n",
    "    #     plt.plot([x[i], x[i+1]], [y[i], y[i+1]], color='gray')\n",
    "\n",
    "    # Invert Y-axis to match image coordinates\n",
    "    plt.gca().invert_yaxis()\n",
    "\n",
    "    # plt.title(row[\"label\"])\n",
    "    plt.xlabel(\"X\")\n",
    "    plt.ylabel(\"Y\")\n",
    "    plt.grid(True)\n",
    "    plt.axis(\"equal\")  # Keep aspect ratio square\n",
    "    plt.show()\n"
   ]
  },
  {
   "cell_type": "code",
   "execution_count": null,
   "metadata": {},
   "outputs": [
    {
     "name": "stdout",
     "output_type": "stream",
     "text": [
      "21\n"
     ]
    },
    {
     "data": {
      "image/png": "[encoded data removed]",
      "text/plain": [
       "<Figure size 600x600 with 1 Axes>"
      ]
     },
     "metadata": {},
     "output_type": "display_data"
    },
    {
     "name": "stdout",
     "output_type": "stream",
     "text": [
      "21\n"
     ]
    },
    {
     "data": {
      "image/png": "[encoded data removed]",
      "text/plain": [
       "<Figure size 600x600 with 1 Axes>"
      ]
     },
     "metadata": {},
     "output_type": "display_data"
    },
    {
     "name": "stdout",
     "output_type": "stream",
     "text": [
      "21\n"
     ]
    },
    {
     "data": {
      "image/png": "[encoded data removed]",
      "text/plain": [
       "<Figure size 600x600 with 1 Axes>"
      ]
     },
     "metadata": {},
     "output_type": "display_data"
    },
    {
     "name": "stdout",
     "output_type": "stream",
     "text": [
      "21\n"
     ]
    },
    {
     "data": {
      "image/png": "[encoded data removed]",
      "text/plain": [
       "<Figure size 600x600 with 1 Axes>"
      ]
     },
     "metadata": {},
     "output_type": "display_data"
    },
    {
     "name": "stdout",
     "output_type": "stream",
     "text": [
      "21\n"
     ]
    },
    {
     "data": {
      "image/png": "[encoded data removed]",
      "text/plain": [
       "<Figure size 600x600 with 1 Axes>"
      ]
     },
     "metadata": {},
     "output_type": "display_data"
    }
   ],
   "source": [
    "plot_sample(df.sample(5, random_state=42))"
   ]
  },
  {
   "cell_type": "markdown",
   "metadata": {},
   "source": [
    "# 4.Exploration"
   ]
  },
  {
   "cell_type": "code",
   "execution_count": 22,
   "metadata": {},
   "outputs": [
    {
     "data": {
      "image/png": "[encoded data removed]",
      "text/plain": [
       "<Figure size 1000x500 with 1 Axes>"
      ]
     },
     "metadata": {},
     "output_type": "display_data"
    }
   ],
   "source": [
    "df['label'].value_counts().plot(kind='bar', figsize=(10,5), title='Gesture Class Distribution')\n",
    "plt.xlabel(\"Gesture Class\")\n",
    "plt.ylabel(\"Count\")\n",
    "plt.xticks(rotation=45)\n",
    "plt.tight_layout()\n",
    "plt.show()\n"
   ]
  },
  {
   "cell_type": "markdown",
   "metadata": {},
   "source": [
    "Data Almost balanced"
   ]
  },
  {
   "cell_type": "markdown",
   "metadata": {},
   "source": [
    "# 5.Preprocessing"
   ]
  },
  {
   "cell_type": "code",
   "execution_count": null,
   "metadata": {},
   "outputs": [],
   "source": [
    "labels = df['label']\n",
    "features = df.drop(columns=['label'])"
   ]
  },
  {
   "cell_type": "code",
   "execution_count": null,
   "metadata": {},
   "outputs": [],
   "source": [
    "# Centering by wrist, and scaling by middle finger tip\n",
    "def normalize_landmarks(row):\n",
    "    coords = row.values.reshape(-1, 3)\n",
    "    wrist = coords[0][:2]  # x, y of wrist\n",
    "    mid_tip = coords[12][:2]  # x, y of middle finger tip\n",
    "    scale = np.linalg.norm(mid_tip - wrist)\n",
    "    coords[:, :2] = (coords[:, :2] - wrist) / (scale + 1e-6)\n",
    "    return coords.flatten()"
   ]
  },
  {
   "cell_type": "code",
   "execution_count": 8,
   "metadata": {},
   "outputs": [],
   "source": [
    "X_normalized = features.apply(normalize_landmarks, axis=1, result_type='expand')"
   ]
  },
  {
   "cell_type": "code",
   "execution_count": 9,
   "metadata": {},
   "outputs": [],
   "source": [
    "# Scale features\n",
    "scaler = StandardScaler()\n",
    "X_scaled = scaler.fit_transform(X_normalized)"
   ]
  },
  {
   "cell_type": "code",
   "execution_count": 10,
   "metadata": {},
   "outputs": [],
   "source": [
    "# 4. Train-Test Split\n",
    "X_train, X_test, y_train, y_test = train_test_split(X_scaled, labels, test_size=0.2, random_state=42)"
   ]
  },
  {
   "cell_type": "markdown",
   "metadata": {},
   "source": [
    "# 6.Modeling"
   ]
  },
  {
   "cell_type": "code",
   "execution_count": null,
   "metadata": {},
   "outputs": [],
   "source": [
    "models_params = {\n",
    "    \"SVM\": {\n",
    "        \"model\": SVC(random_state=42),\n",
    "        \"params\": {\n",
    "            \"C\": [0.1, 1, 10],\n",
    "            \"kernel\": [\"linear\", \"rbf\"],\n",
    "            \"gamma\": [\"scale\", \"auto\"]\n",
    "        }\n",
    "    },\n",
    "    \"Random Forest\": {\n",
    "        \"model\": RandomForestClassifier(random_state=42),\n",
    "        \"params\": {\n",
    "            \"n_estimators\": [50, 100, 150],\n",
    "            \"max_depth\": [None, 10, 20],\n",
    "            \"min_samples_split\": [2, 5]\n",
    "        }\n",
    "    },\n",
    "    \"KNN\": {\n",
    "        \"model\": KNeighborsClassifier(),\n",
    "        \"params\": {\n",
    "            \"n_neighbors\": [3, 5, 7],\n",
    "            \"weights\": [\"uniform\", \"distance\"]\n",
    "        }\n",
    "    }\n",
    "}\n"
   ]
  },
  {
   "cell_type": "code",
   "execution_count": null,
   "metadata": {},
   "outputs": [],
   "source": [
    "def run_grid_search(X_train, y_train, X_test, y_test):\n",
    "\n",
    "    best_models = {}\n",
    "    results = {}\n",
    "\n",
    "    for name, cfg in models_params.items():\n",
    "\n",
    "        print(f\"Grid Search for {name}\")\n",
    "\n",
    "        # I make scoring to be 'accuracy' because my data is balanced and in this case accuracy is appropriate choise.\n",
    "        grid = GridSearchCV(cfg[\"model\"], cfg[\"params\"], cv=5, scoring='accuracy', n_jobs=-1, verbose=1)\n",
    "        grid.fit(X_train, y_train)\n",
    "        \n",
    "        best_model = grid.best_estimator_\n",
    "        best_models[name] = best_model\n",
    "\n",
    "        y_pred = best_model.predict(X_test)\n",
    "        acc = accuracy_score(y_test, y_pred)\n",
    "        results[name] = acc\n",
    "\n",
    "        print(f\"\\nBest parameters for {name}: {grid.best_params_}\")\n",
    "        print(f\"Accuracy: {acc:.4f}\")\n",
    "        print(classification_report(y_test, y_pred))\n",
    "\n",
    "    return best_models, results\n"
   ]
  },
  {
   "cell_type": "code",
   "execution_count": 27,
   "metadata": {},
   "outputs": [
    {
     "name": "stdout",
     "output_type": "stream",
     "text": [
      "Grid Search for SVM\n",
      "Fitting 5 folds for each of 12 candidates, totalling 60 fits\n",
      "\n",
      "Best parameters for SVM: {'C': 10, 'gamma': 'scale', 'kernel': 'rbf'}\n",
      "Accuracy: 0.9671\n",
      "                 precision    recall  f1-score   support\n",
      "\n",
      "           call       1.00      0.99      0.99       287\n",
      "        dislike       0.97      1.00      0.98       260\n",
      "           fist       1.00      1.00      1.00       209\n",
      "           four       0.97      0.97      0.97       325\n",
      "           like       1.00      1.00      1.00       304\n",
      "           mute       0.94      0.96      0.95       195\n",
      "             ok       0.99      0.99      0.99       340\n",
      "            one       0.97      0.96      0.96       248\n",
      "           palm       0.97      0.97      0.97       317\n",
      "          peace       0.90      0.91      0.90       276\n",
      " peace_inverted       0.97      0.91      0.94       307\n",
      "           rock       1.00      0.99      0.99       290\n",
      "           stop       0.93      0.99      0.96       293\n",
      "  stop_inverted       0.99      0.98      0.98       309\n",
      "          three       0.99      0.96      0.97       298\n",
      "         three2       0.99      0.98      0.99       331\n",
      "         two_up       0.91      0.91      0.91       267\n",
      "two_up_inverted       0.90      0.95      0.93       279\n",
      "\n",
      "       accuracy                           0.97      5135\n",
      "      macro avg       0.97      0.97      0.97      5135\n",
      "   weighted avg       0.97      0.97      0.97      5135\n",
      "\n",
      "Grid Search for Random Forest\n",
      "Fitting 5 folds for each of 18 candidates, totalling 90 fits\n",
      "\n",
      "Best parameters for Random Forest: {'max_depth': None, 'min_samples_split': 2, 'n_estimators': 150}\n",
      "Accuracy: 0.9759\n",
      "                 precision    recall  f1-score   support\n",
      "\n",
      "           call       0.99      0.99      0.99       287\n",
      "        dislike       1.00      0.99      0.99       260\n",
      "           fist       0.99      0.99      0.99       209\n",
      "           four       0.95      0.96      0.96       325\n",
      "           like       1.00      0.99      1.00       304\n",
      "           mute       0.95      0.96      0.96       195\n",
      "             ok       0.98      0.99      0.99       340\n",
      "            one       0.96      0.96      0.96       248\n",
      "           palm       0.98      0.98      0.98       317\n",
      "          peace       0.95      0.96      0.95       276\n",
      " peace_inverted       0.98      0.96      0.97       307\n",
      "           rock       1.00      0.98      0.99       290\n",
      "           stop       0.94      0.98      0.96       293\n",
      "  stop_inverted       0.98      0.97      0.98       309\n",
      "          three       0.99      0.95      0.97       298\n",
      "         three2       0.99      0.99      0.99       331\n",
      "         two_up       0.96      0.96      0.96       267\n",
      "two_up_inverted       0.97      0.97      0.97       279\n",
      "\n",
      "       accuracy                           0.98      5135\n",
      "      macro avg       0.98      0.98      0.98      5135\n",
      "   weighted avg       0.98      0.98      0.98      5135\n",
      "\n",
      "Grid Search for KNN\n",
      "Fitting 5 folds for each of 6 candidates, totalling 30 fits\n",
      "\n",
      "Best parameters for KNN: {'n_neighbors': 7, 'weights': 'distance'}\n",
      "Accuracy: 0.9309\n",
      "                 precision    recall  f1-score   support\n",
      "\n",
      "           call       0.98      0.97      0.98       287\n",
      "        dislike       1.00      1.00      1.00       260\n",
      "           fist       0.99      0.99      0.99       209\n",
      "           four       0.93      0.96      0.95       325\n",
      "           like       0.97      0.98      0.98       304\n",
      "           mute       0.96      0.96      0.96       195\n",
      "             ok       0.99      0.97      0.98       340\n",
      "            one       0.94      0.94      0.94       248\n",
      "           palm       0.93      0.93      0.93       317\n",
      "          peace       0.82      0.80      0.81       276\n",
      " peace_inverted       0.83      0.84      0.83       307\n",
      "           rock       0.99      0.98      0.98       290\n",
      "           stop       0.87      0.94      0.90       293\n",
      "  stop_inverted       0.98      0.98      0.98       309\n",
      "          three       0.99      0.92      0.95       298\n",
      "         three2       0.97      0.96      0.97       331\n",
      "         two_up       0.82      0.85      0.83       267\n",
      "two_up_inverted       0.82      0.80      0.81       279\n",
      "\n",
      "       accuracy                           0.93      5135\n",
      "      macro avg       0.93      0.93      0.93      5135\n",
      "   weighted avg       0.93      0.93      0.93      5135\n",
      "\n",
      "Best overall model: Random Forest with accuracy 0.9759\n"
     ]
    }
   ],
   "source": [
    "best_models, results = run_grid_search(X_train, y_train, X_test, y_test)\n",
    "\n",
    "# Select the best performing model\n",
    "best_model_name = max(results, key=results.get)\n",
    "best_model = best_models[best_model_name]\n",
    "\n",
    "print(f\"Best overall model: {best_model_name} with accuracy {results[best_model_name]:.4f}\")\n"
   ]
  },
  {
   "cell_type": "markdown",
   "metadata": {},
   "source": [
    "# 7. Live Testing"
   ]
  },
  {
   "cell_type": "code",
   "execution_count": 31,
   "metadata": {},
   "outputs": [],
   "source": [
    "# MediaPipe setup\n",
    "mp_hands = mp.solutions.hands\n",
    "hands = mp_hands.Hands(static_image_mode=False,\n",
    "                       max_num_hands=1,\n",
    "                       min_detection_confidence=0.5)\n",
    "mp_drawing = mp.solutions.drawing_utils\n",
    "\n",
    "# Normalize the landmarks like in training\n",
    "def preprocess_landmarks(landmarks):\n",
    "    coords = np.array(landmarks).reshape(-1, 3)\n",
    "    wrist = coords[0][:2]\n",
    "    mid_tip = coords[12][:2]\n",
    "    scale = np.linalg.norm(mid_tip - wrist)\n",
    "    coords[:, :2] = (coords[:, :2] - wrist) / (scale + 1e-6)\n",
    "    return coords.flatten()\n",
    "\n",
    "# Start webcam\n",
    "cap = cv2.VideoCapture(0)\n",
    "\n",
    "while True:\n",
    "    ret, frame = cap.read()\n",
    "    if not ret:\n",
    "        break\n",
    "\n",
    "    # Flip and convert to RGB\n",
    "    image = cv2.flip(frame, 1)\n",
    "    image_rgb = cv2.cvtColor(image, cv2.COLOR_BGR2RGB)\n",
    "\n",
    "    result = hands.process(image_rgb)\n",
    "\n",
    "    if result.multi_hand_landmarks:\n",
    "        for hand_landmarks in result.multi_hand_landmarks:\n",
    "            landmarks = []\n",
    "            for lm in hand_landmarks.landmark:\n",
    "                h, w, _ = image.shape\n",
    "                landmarks.append([lm.x * w, lm.y * h, lm.z])\n",
    "            processed = preprocess_landmarks(landmarks)\n",
    "            processed = scaler.transform([processed])\n",
    "            prediction = best_model.predict(processed)[0]\n",
    "\n",
    "            # Draw landmarks & prediction\n",
    "            mp_drawing.draw_landmarks(image, hand_landmarks, mp_hands.HAND_CONNECTIONS)\n",
    "            cv2.putText(image, f'Gesture: {prediction}', (10, 50),\n",
    "                        cv2.FONT_HERSHEY_SIMPLEX, 1.2, (0, 255, 0), 3)\n",
    "\n",
    "    cv2.imshow('Hand Gesture Prediction', image)\n",
    "    if cv2.waitKey(1) & 0xFF == ord('q'):\n",
    "        break\n",
    "\n",
    "cap.release()\n",
    "cv2.destroyAllWindows()\n"
   ]
  },
  {
   "cell_type": "code",
   "execution_count": 40,
   "metadata": {},
   "outputs": [],
   "source": [
    "!pip freeze > requirements.txt"
   ]
  },
  {
   "cell_type": "code",
   "execution_count": null,
   "metadata": {},
   "outputs": [],
   "source": []
  }
 ],
 "metadata": {
  "kernelspec": {
   "display_name": "mediapipe",
   "language": "python",
   "name": "python3"
  },
  "language_info": {
   "codemirror_mode": {
    "name": "ipython",
    "version": 3
   },
   "file_extension": ".py",
   "mimetype": "text/x-python",
   "name": "python",
   "nbconvert_exporter": "python",
   "pygments_lexer": "ipython3",
   "version": "3.9.21"
  }
 },
 "nbformat": 4,
 "nbformat_minor": 2
}
